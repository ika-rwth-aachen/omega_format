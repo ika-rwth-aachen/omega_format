{
 "cells": [
  {
   "cell_type": "markdown",
   "metadata": {},
   "source": [
    "# Introduction to the OmegaFormat\n",
    "\n",
    "This notebook will introduce you to the OmegaFormat and the usage of the acopaning python library. The OmegaFormat is used to store and exchange vehicle traffic data. This includes data on objects with their trajectories in an object-list based disription and map information. The represention of geopositions is in an aboslute manner, relative to a reference point. "
   ]
  },
  {
   "cell_type": "markdown",
   "metadata": {
    "tags": [
     "nbval-skip"
    ]
   },
   "source": [
    "To install run:`pip install -e ..[visualization]`"
   ]
  },
  {
   "cell_type": "markdown",
   "metadata": {},
   "source": [
    "## Create a OmegaFormat file from scratch\n",
    "The OmegaFormat uses the hdf5 file format. The first step to create a new data file is to define the `MetaData`."
   ]
  },
  {
   "cell_type": "code",
   "execution_count": 5,
   "metadata": {},
   "outputs": [],
   "source": [
    "from datetime import datetime\n",
    "import omega_format\n",
    "\n",
    "meta_data = omega_format.MetaData(recorder_number=\"1\", \n",
    "                                recording_number=\"1\",\n",
    "                                daytime=datetime.now(),\n",
    "                                reference_point_lat=50.786687,\n",
    "                                reference_point_lon=6.046312)"
   ]
  },
  {
   "cell_type": "markdown",
   "metadata": {},
   "source": [
    "The `meta_data` object stores information that helps trace the origin and collection condition of the data and it defines the reference point of the used coordinate system in geographic coordiante system. With the `meta_data` object we can create the ReferenceRecording, which is the container for all the data. Besidse the `meta_data` we need to set the timestamps as an array of time relative the daytime given in the meta data. the timestamps are referenced from all objects."
   ]
  },
  {
   "cell_type": "code",
   "execution_count": 6,
   "metadata": {},
   "outputs": [],
   "source": [
    "rr = omega_format.ReferenceRecording(meta_data=meta_data,\n",
    "                                    timestamps=[0,1])"
   ]
  },
  {
   "cell_type": "markdown",
   "metadata": {},
   "source": [
    "Now we can add a first road user to the reference recoding. As you can see, we only specify a birth index (index at which position in the timestamp array the road user begins existing) and no timestamps of the oberervations directly. This ensures that all objects share the same observation times."
   ]
  },
  {
   "cell_type": "code",
   "execution_count": 7,
   "metadata": {},
   "outputs": [],
   "source": [
    "rr.road_users['RU0'] = omega_format.RoadUser(type=omega_format.RoadUserType.CAR,\n",
    "                                        sub_type=omega_format.RoadUserSubTypeGeneral.REGULAR,\n",
    "                                        birth=0,\n",
    "                                        bb=omega_format.BoundingBox.create(length=2, width=3, height=1),\n",
    "                                        tr=omega_format.Trajectory(pos_x=[0,1],\n",
    "                                                                    pos_y=[0,1],\n",
    "                                                                    pos_z=[0,0],\n",
    "                                                                    heading=[0,0])\n",
    ")"
   ]
  },
  {
   "cell_type": "markdown",
   "metadata": {},
   "source": [
    "We can add as many Road Users as we like. \n",
    "\n",
    "For the analysis of traffic, map information is crucial. The OmegaFormat also contains map information. Similar to the ASAM OpenDRIVE specification, we describe the map through roads which are themself made up of lanes. So we first create a Road:"
   ]
  },
  {
   "cell_type": "code",
   "execution_count": 8,
   "metadata": {},
   "outputs": [],
   "source": [
    "rr.roads[0] = omega_format.Road(location=omega_format.RoadLocation.URBAN)"
   ]
  },
  {
   "cell_type": "markdown",
   "metadata": {},
   "source": [
    "You now would go on and add Lanes to the Road. The geometry of each lane is defined through Boundaries (LineStrings/Polylines) like the Lanelet2 format. To explore more about how maps are defined we suggest to look into the example converters from OpenDRIVE in the `03_Converters.ipynb` notebook."
   ]
  },
  {
   "cell_type": "markdown",
   "metadata": {},
   "source": [
    "When we have added all the data, we can save the Information to an hdf5 file:"
   ]
  },
  {
   "cell_type": "code",
   "execution_count": 9,
   "metadata": {},
   "outputs": [],
   "source": [
    "rr.to_hdf5('test.hdf5')"
   ]
  },
  {
   "cell_type": "markdown",
   "metadata": {},
   "source": [
    "and read in read the created file back in with"
   ]
  },
  {
   "cell_type": "code",
   "execution_count": 10,
   "metadata": {},
   "outputs": [],
   "source": [
    "rr = omega_format.ReferenceRecording.from_hdf5('test.hdf5')"
   ]
  },
  {
   "cell_type": "markdown",
   "metadata": {},
   "source": [
    "## Visualization "
   ]
  },
  {
   "cell_type": "markdown",
   "metadata": {},
   "source": [
    "You can visulize ReferenceRecordings with the following code. A QT GUI Application will start where you can explore the recording."
   ]
  },
  {
   "cell_type": "code",
   "execution_count": null,
   "metadata": {
    "tags": [
     "nbval-skip"
    ]
   },
   "outputs": [],
   "source": [
    "import omega_format\n",
    "from omega_format.visualization import Visualizer, SnippetContainer\n",
    "reference_recording = omega_format.ReferenceRecording.from_hdf5('test.hdf5')\n",
    "visualizer = Visualizer(SnippetContainer.create_list(references=reference_recording))\n",
    "visualizer.start_gui_and_visualization()"
   ]
  },
  {
   "cell_type": "code",
   "execution_count": null,
   "metadata": {},
   "outputs": [],
   "source": []
  }
 ],
 "metadata": {
  "kernelspec": {
   "display_name": "asep311",
   "language": "python",
   "name": "python3"
  },
  "language_info": {
   "codemirror_mode": {
    "name": "ipython",
    "version": 3
   },
   "file_extension": ".py",
   "mimetype": "text/x-python",
   "name": "python",
   "nbconvert_exporter": "python",
   "pygments_lexer": "ipython3",
   "version": "3.11.11"
  }
 },
 "nbformat": 4,
 "nbformat_minor": 2
}
