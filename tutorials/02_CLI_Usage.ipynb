{
 "cells": [
  {
   "cell_type": "markdown",
   "metadata": {},
   "source": [
    "# Usage of the CLI\n",
    "\n",
    "Install `omega_format` with `pip install ..[visualziation]`"
   ]
  },
  {
   "cell_type": "markdown",
   "metadata": {},
   "source": [
    "# File Validation\n",
    "\n",
    "Validate if a omega_format file conforms to the specification:"
   ]
  },
  {
   "cell_type": "code",
   "execution_count": 1,
   "metadata": {
    "tags": [
     "nbval-ignore-output"
    ]
   },
   "outputs": [
    {
     "name": "stdout",
     "output_type": "stream",
     "text": [
      "The OMEGA Format reference file test.hdf5 conforms to the specification and passes basic sanity checks.\n"
     ]
    }
   ],
   "source": [
    "!omega_format verify --reference ./test.hdf5"
   ]
  },
  {
   "cell_type": "markdown",
   "metadata": {},
   "source": [
    "If you want to validate a perception file you would run `omega_format verify --perception <FILENAME>`"
   ]
  }
 ],
 "metadata": {
  "kernelspec": {
   "display_name": "ase5",
   "language": "python",
   "name": "python3"
  },
  "language_info": {
   "codemirror_mode": {
    "name": "ipython",
    "version": 3
   },
   "file_extension": ".py",
   "mimetype": "text/x-python",
   "name": "python",
   "nbconvert_exporter": "python",
   "pygments_lexer": "ipython3",
   "version": "3.9.19"
  }
 },
 "nbformat": 4,
 "nbformat_minor": 2
}
