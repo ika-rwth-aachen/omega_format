{
 "cells": [
  {
   "cell_type": "markdown",
   "metadata": {},
   "source": [
    "# Converters\n"
   ]
  },
  {
   "cell_type": "markdown",
   "metadata": {},
   "source": [
    "## LevelXData Datasets\n",
    "OEMGAFormat supports datasets from [LevelXData](https://levelxdata.com/). It is tested with the [inD](https://levelxdata.com/ind-dataset/),[highD](https://levelxdata.com/highd-dataset/) and [exiD](https://levelxdata.com/highd-dataset/) datasets.\n",
    "\n",
    "`omega_format convert-level-x-data --input <path to root folder of the dataset> --output <desired output path>`"
   ]
  },
  {
   "cell_type": "markdown",
   "metadata": {},
   "source": [
    "## ASAM OpenDrive\n",
    "\n",
    "OMEGAFormat can read and convert from ASAM OpenDRIVE maps. As an example we will use one of the example files from the [ASAM OpenDRIVE Specification](https://publications.pages.asam.net/standards/ASAM_OpenDRIVE/ASAM_OpenDRIVE_Specification/latest/specification/index.html#) (you can find it under Deliverables in the upper right corner)."
   ]
  },
  {
   "cell_type": "markdown",
   "metadata": {},
   "source": [
    "### Get Example ASAM OpenDrive File"
   ]
  },
  {
   "cell_type": "code",
   "execution_count": 14,
   "metadata": {
    "tags": [
     "nbval-ignore-output"
    ]
   },
   "outputs": [
    {
     "name": "stdout",
     "output_type": "stream",
     "text": [
      "Requirement already satisfied: requests in c:\\users\\schuldes\\miniconda3\\envs\\ase5\\lib\\site-packages (2.31.0)\n",
      "Requirement already satisfied: charset-normalizer<4,>=2 in c:\\users\\schuldes\\miniconda3\\envs\\ase5\\lib\\site-packages (from requests) (3.3.2)\n",
      "Requirement already satisfied: idna<4,>=2.5 in c:\\users\\schuldes\\miniconda3\\envs\\ase5\\lib\\site-packages (from requests) (3.6)\n",
      "Requirement already satisfied: urllib3<3,>=1.21.1 in c:\\users\\schuldes\\miniconda3\\envs\\ase5\\lib\\site-packages (from requests) (2.2.1)\n",
      "Requirement already satisfied: certifi>=2017.4.17 in c:\\users\\schuldes\\miniconda3\\envs\\ase5\\lib\\site-packages (from requests) (2024.2.2)\n"
     ]
    }
   ],
   "source": [
    "!pip install requests"
   ]
  },
  {
   "cell_type": "code",
   "execution_count": 15,
   "metadata": {},
   "outputs": [],
   "source": [
    "import requests\n",
    "import zipfile\n",
    "import io\n",
    "\n",
    "url = 'https://publications.pages.asam.net/standards/ASAM_OpenDRIVE/ASAM_OpenDRIVE_Specification/latest/specification/_attachments/generated/ASAM_OpenDRIVE_1-8-1_examples_and_use-cases.zip'\n",
    "example_file = 'examples/Ex_Pedestrian_Crossing/Ex_Pedestrian_Crossing.xodr'\n",
    "r = requests.get(url)\n",
    "with zipfile.ZipFile(io.BytesIO(r.content)) as z:\n",
    "    with open('Ex_Pedestrian_Crossing.xodr', 'wb') as f:\n",
    "        f.write(z.read(example_file))"
   ]
  },
  {
   "cell_type": "markdown",
   "metadata": {},
   "source": [
    "### Convert with CLI"
   ]
  },
  {
   "cell_type": "code",
   "execution_count": 16,
   "metadata": {
    "tags": [
     "nbval-ignore-output"
    ]
   },
   "outputs": [
    {
     "name": "stderr",
     "output_type": "stream",
     "text": [
      "\n",
      "  0%|          | 0/1 [00:00<?, ?it/s]Header of openDRIVE file provides no geo reference. Please update! Converter takes default values for now.\n",
      "\n",
      "\n",
      "roads:   0%|          | 0/2 [00:00<?, ?it/s]\u001b[A\n",
      "\n",
      "                                            \u001b[A\n",
      "100%|██████████| 1/1 [00:00<00:00,  6.66it/s]\n",
      "100%|██████████| 1/1 [00:00<00:00,  6.66it/s]\n"
     ]
    }
   ],
   "source": [
    "!omega_format convert-odr --input Ex_Pedestrian_Crossing.xodr --output example.hdf5"
   ]
  },
  {
   "cell_type": "markdown",
   "metadata": {},
   "source": [
    "### Convert in Python Code"
   ]
  },
  {
   "cell_type": "code",
   "execution_count": 17,
   "metadata": {
    "tags": [
     "nbval-ignore-output"
    ]
   },
   "outputs": [
    {
     "data": {
      "application/vnd.jupyter.widget-view+json": {
       "model_id": "5c72cda785b546b8b0401f97cf50ffe8",
       "version_major": 2,
       "version_minor": 0
      },
      "text/plain": [
       "  0%|          | 0/1 [00:00<?, ?it/s]"
      ]
     },
     "metadata": {},
     "output_type": "display_data"
    },
    {
     "name": "stderr",
     "output_type": "stream",
     "text": [
      "Header of openDRIVE file provides no geo reference. Please update! Converter takes default values for now.\n"
     ]
    },
    {
     "data": {
      "application/vnd.jupyter.widget-view+json": {
       "model_id": "d1e7f59109144c6dab618be90c6ca592",
       "version_major": 2,
       "version_minor": 0
      },
      "text/plain": [
       "roads:   0%|          | 0/2 [00:00<?, ?it/s]"
      ]
     },
     "metadata": {},
     "output_type": "display_data"
    }
   ],
   "source": [
    "from omega_format.converters.from_asam_opendrive import from_opendrive\n",
    "from_opendrive(input='Ex_Pedestrian_Crossing.xodr',\n",
    "               output='omega_from_asam_opendrive.hdf5')"
   ]
  },
  {
   "cell_type": "code",
   "execution_count": 18,
   "metadata": {},
   "outputs": [],
   "source": [
    "from pathlib import Path\n",
    "from omega_format.converters.from_asam_opendrive import opendrive2roads\n",
    "import h5py"
   ]
  },
  {
   "cell_type": "code",
   "execution_count": 19,
   "metadata": {
    "tags": [
     "nbval-ignore-output"
    ]
   },
   "outputs": [
    {
     "name": "stderr",
     "output_type": "stream",
     "text": [
      "Header of openDRIVE file provides no geo reference. Please update! Converter takes default values for now.\n"
     ]
    },
    {
     "data": {
      "application/vnd.jupyter.widget-view+json": {
       "model_id": "47bd056caaa04814b17c0ea6c26a1638",
       "version_major": 2,
       "version_minor": 0
      },
      "text/plain": [
       "roads:   0%|          | 0/2 [00:00<?, ?it/s]"
      ]
     },
     "metadata": {},
     "output_type": "display_data"
    }
   ],
   "source": [
    "with h5py.File(Path('omega_from_asam_opendrive.hdf5'), 'w') as f:\n",
    "    x = opendrive2roads(Path('Ex_Pedestrian_Crossing.xodr'),\n",
    "                        junction_id=None, \n",
    "                        step_size=0.1)"
   ]
  },
  {
   "cell_type": "markdown",
   "metadata": {},
   "source": [
    "Note that the example file from ASAM OSI does not contain a reference geo position in the headers, hence the warning."
   ]
  }
 ],
 "metadata": {
  "kernelspec": {
   "display_name": "ase5",
   "language": "python",
   "name": "python3"
  },
  "language_info": {
   "codemirror_mode": {
    "name": "ipython",
    "version": 3
   },
   "file_extension": ".py",
   "mimetype": "text/x-python",
   "name": "python",
   "nbconvert_exporter": "python",
   "pygments_lexer": "ipython3",
   "version": "3.9.19"
  }
 },
 "nbformat": 4,
 "nbformat_minor": 2
}
